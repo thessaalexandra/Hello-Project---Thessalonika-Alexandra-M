{
  "nbformat": 4,
  "nbformat_minor": 0,
  "metadata": {
    "colab": {
      "name": "Untitled2.ipynb",
      "provenance": [],
      "collapsed_sections": [],
      "include_colab_link": true
    },
    "kernelspec": {
      "name": "python3",
      "display_name": "Python 3"
    },
    "language_info": {
      "name": "python"
    }
  },
  "cells": [
    {
      "cell_type": "markdown",
      "metadata": {
        "id": "view-in-github",
        "colab_type": "text"
      },
      "source": [
        "<a href=\"https://colab.research.google.com/github/thessaalexandra/Hello-Project---Thessalonika-Alexandra-M/blob/main/Tugas2.ipynb\" target=\"_parent\"><img src=\"https://colab.research.google.com/assets/colab-badge.svg\" alt=\"Open In Colab\"/></a>"
      ]
    },
    {
      "cell_type": "code",
      "execution_count": 437,
      "metadata": {
        "colab": {
          "base_uri": "https://localhost:8080/"
        },
        "id": "nD3oi21P2Kmm",
        "outputId": "5f951a34-c02e-4e03-8c98-c029a64d8139"
      },
      "outputs": [
        {
          "output_type": "stream",
          "name": "stdout",
          "text": [
            "Requirement already satisfied: xlsxwriter in /usr/local/lib/python3.7/dist-packages (3.0.3)\n"
          ]
        }
      ],
      "source": [
        "import numpy as np\n",
        "import pandas as pd\n",
        "import matplotlib.pyplot as plt\n",
        "!pip install xlsxwriter"
      ]
    },
    {
      "cell_type": "code",
      "source": [
        "#Membaca data\n",
        "\n",
        "data = []\n",
        "data = pd.read_excel('bengkel.xlsx')\n",
        "print(data)"
      ],
      "metadata": {
        "colab": {
          "base_uri": "https://localhost:8080/"
        },
        "id": "2TkAkVK32TqN",
        "outputId": "f8f72387-1dbd-4f80-9906-e333a73843df"
      },
      "execution_count": 438,
      "outputs": [
        {
          "output_type": "stream",
          "name": "stdout",
          "text": [
            "     id  servis  harga\n",
            "0     1      58      7\n",
            "1     2      54      1\n",
            "2     3      98      2\n",
            "3     4      52      4\n",
            "4     5      11      4\n",
            "..  ...     ...    ...\n",
            "95   96      30      1\n",
            "96   97      25      3\n",
            "97   98      27     10\n",
            "98   99       8      6\n",
            "99  100      11      8\n",
            "\n",
            "[100 rows x 3 columns]\n"
          ]
        }
      ]
    },
    {
      "cell_type": "markdown",
      "source": [
        "Variabel Linguistik yang digunakan adalah harga dan Servis yang terbagi menjadi:\n",
        "\n",
        "pada variabel servis terdapat 3 nilai linguistik: \n",
        "\n",
        "- servis Buruk\n",
        "- servis Baik\n",
        "- servis Cukup\n",
        "\n",
        "pada variabel harga terdapat 3 nilai linguistik;\n",
        "- harga Murah\n",
        "- harga Mahal \n",
        "- harga Cukup\n",
        "\n",
        "Dengan 3 Variabel "
      ],
      "metadata": {
        "id": "mcqAXoS4n836"
      }
    },
    {
      "cell_type": "code",
      "source": [
        "import matplotlib.pyplot as plt\n",
        "#Servis\n",
        "#Bentuk dan Batas fungsi Keanggotaan yang kami gunakan adalah bentuk Trapesium\n",
        "#Servis buruk dimulai dari nilai 1-35\n",
        "#Servis cukup dimulai dari nilai 50-60\n",
        "#Servis baik dimulai dari nilai 85-100\n",
        "\n",
        "\n",
        "def servisBuruk(nilai):\n",
        "  if(nilai >= 45):\n",
        "    return 0\n",
        "  elif(nilai >= 35) and (nilai <= 45):\n",
        "    return (45-nilai)/(45-35)\n",
        "  elif(nilai <= 35):\n",
        "    return 1\n",
        "\n",
        "def servisCukup(nilai):\n",
        "  if(nilai <= 20) or (nilai >= 70):\n",
        "    return 0\n",
        "  elif(nilai >= 20) and (nilai <= 50):\n",
        "    return (nilai-20)/(50-20)\n",
        "  elif(nilai >= 50) and (nilai <= 60):\n",
        "    return 1\n",
        "  elif(nilai >= 60) and (nilai <= 70):\n",
        "    return (70-nilai)/(70-60)\n",
        "\n",
        "def servisBaik(nilai):\n",
        "  if(nilai <= 65):\n",
        "    return 0\n",
        "  elif(nilai >= 65) and (nilai <= 85):\n",
        "    return (nilai-65)/(85-65)\n",
        "  elif(nilai >= 85):\n",
        "    return 1 \n",
        "\n",
        "value = range (101)\n",
        "plt.plot(value, [servisBuruk(nilai) for nilai in value], 'b')\n",
        "plt.plot(value, [servisBaik(nilai) for nilai in value], 'r')\n",
        "plt.plot(value, [servisCukup(nilai) for nilai in value], 'g')\n",
        "plt.title(\"Kualitas Servis\")\n",
        "\n",
        "plt.plot(0, 0, 'b', label = 'Buruk')\n",
        "plt.plot(0, 0, 'r', label = 'Baik')\n",
        "plt.plot(0, 0, 'g', label = 'Cukup')\n",
        "plt.legend()\n",
        "plt.show()"
      ],
      "metadata": {
        "colab": {
          "base_uri": "https://localhost:8080/",
          "height": 281
        },
        "id": "62lJnHpC2fc0",
        "outputId": "c802d2b9-ef51-4ac6-e2c3-40da685fb210"
      },
      "execution_count": 439,
      "outputs": [
        {
          "output_type": "display_data",
          "data": {
            "text/plain": [
              "<Figure size 432x288 with 1 Axes>"
            ],
            "image/png": "[encoded data removed]"
          },
          "metadata": {
            "needs_background": "light"
          }
        }
      ]
    },
    {
      "cell_type": "code",
      "source": [
        "import matplotlib.pyplot as plt\n",
        "#Harga \n",
        "# Bentuk dan Batas fungsi Keanggotaan yang kami gunakan adalah bentuk Trapesium\n",
        "# harga yang dimasukan dari range bilangan real 1 - 10\n",
        "# harga murah mulai dari angka 1 - 3\n",
        "# harga cukup mulai dari angka 3 - 7\n",
        "# harga mahal akan dimulai dari angka  6 - 10\n",
        "\n",
        "def hargaMurah(angka):\n",
        "  if (angka > 3):\n",
        "    return 0 \n",
        "  elif(angka > 2) and (angka < 3):\n",
        "    return (angka - 2)/(3 - 2)\n",
        "  elif (angka <= 3):\n",
        "    return 1\n",
        "\n",
        "def hargaCukup(angka):\n",
        "  if (angka <= 3) or  (angka >= 7):\n",
        "    return 0\n",
        "  elif (angka >= 3) and (angka <= 4):\n",
        "    return (angka - 3)/(4 - 3)\n",
        "  elif(angka >= 4) and (angka <= 6):\n",
        "    return 1\n",
        "  elif (angka >= 6) and (angka <= 7):\n",
        "    return (7 - angka)/(7 - 6)\n",
        "\n",
        "\n",
        "def hargaMahal(angka):\n",
        "  if (angka <= 6 ):\n",
        "    return 0\n",
        "  elif(angka >= 6) and (angka <= 8):\n",
        "    return (angka-6)/(8 - 6)\n",
        "  elif(angka >= 8):\n",
        "    return 1\n",
        "\n",
        "\n",
        "value = range (11)\n",
        "plt.plot(value, [hargaMahal(angka) for angka in value], 'r')\n",
        "plt.plot(value, [hargaCukup(angka) for angka in value], 'b')\n",
        "plt.plot(value, [hargaMurah(angka) for angka in value], 'g')\n",
        "plt.title(\"Kualitas Servis\")\n",
        "\n",
        "plt.plot(0, 0, 'r', label = 'Mahal')\n",
        "plt.plot(0, 0, 'b', label = 'Cukup')\n",
        "plt.plot(0, 0, 'g', label = 'Murah')\n",
        "plt.legend()\n",
        "plt.show()"
      ],
      "metadata": {
        "colab": {
          "base_uri": "https://localhost:8080/",
          "height": 281
        },
        "id": "Uqqf-n1E2iu-",
        "outputId": "1e6dba17-9ac6-4211-c768-9e78686a66bc"
      },
      "execution_count": 440,
      "outputs": [
        {
          "output_type": "display_data",
          "data": {
            "text/plain": [
              "<Figure size 432x288 with 1 Axes>"
            ],
            "image/png": "[encoded data removed]"
          },
          "metadata": {
            "needs_background": "light"
          }
        }
      ]
    },
    {
      "cell_type": "code",
      "source": [
        "#Proses Fuzzifikasi\n",
        "\n",
        "def fuzzifikasiServis(nilaiServis):\n",
        "  servisSet = {}\n",
        "  servisSet['Buruk'] = servisBuruk(nilaiServis)\n",
        "  servisSet['Cukup'] = servisCukup(nilaiServis)\n",
        "  servisSet['Baik'] = servisBaik(nilaiServis)\n",
        "  return servisSet\n",
        "\n",
        "def fuzzifikasiHarga(nilaiHarga):\n",
        "  hargaSet = {}\n",
        "  hargaSet['Mahal'] = hargaMahal(nilaiHarga)\n",
        "  hargaSet['Cukup'] = hargaCukup(nilaiHarga)\n",
        "  hargaSet['Murah'] = hargaMurah(nilaiHarga)\n",
        "  return hargaSet"
      ],
      "metadata": {
        "id": "1quG3axV2lW_"
      },
      "execution_count": 441,
      "outputs": []
    },
    {
      "cell_type": "code",
      "source": [
        "#Proses Inferensi\n",
        "\n",
        "def inferensi(setServis, setHarga):\n",
        "  setInferensi = {'Direkomendasikan': [], 'Kurang Direkomendasikan': [], 'Tidak Direkomendasikan': []}\n",
        "  \n",
        "  setInferensi['Direkomendasikan'].append(min(setServis['Baik'], setHarga['Murah']))\n",
        "  setInferensi['Direkomendasikan'].append(min(setServis['Baik'], setHarga['Cukup']))\n",
        "  setInferensi['Kurang Direkomendasikan'].append(min(setServis['Baik'], setHarga['Mahal']))\n",
        "  setInferensi['Kurang Direkomendasikan'].append(min(setServis['Cukup'], setHarga['Cukup']))\n",
        "  setInferensi['Direkomendasikan'].append(min(setServis['Cukup'], setHarga['Murah']))\n",
        "  setInferensi['Kurang Direkomendasikan'].append(min(setServis['Cukup'], setHarga['Mahal']))\n",
        "  setInferensi['Tidak Direkomendasikan'].append(min(setServis['Buruk'], setHarga['Mahal']))\n",
        "  setInferensi['Kurang Direkomendasikan'].append(min(setServis['Buruk'], setHarga['Murah']))\n",
        "  setInferensi['Tidak Direkomendasikan'].append(min(setServis['Buruk'], setHarga['Cukup']))\n",
        "\n",
        "  setInferensi['Direkomendasikan'] = max(setInferensi['Direkomendasikan'])\n",
        "  setInferensi['Kurang Direkomendasikan'] = max(setInferensi['Kurang Direkomendasikan'])\n",
        "  setInferensi['Tidak Direkomendasikan'] = max(setInferensi['Tidak Direkomendasikan'])\n",
        "\n",
        "  return setInferensi\n"
      ],
      "metadata": {
        "id": "jMjAXds_2nZj"
      },
      "execution_count": 442,
      "outputs": []
    },
    {
      "cell_type": "code",
      "source": [
        "#Proses Defusifikasi\n",
        "\n",
        "def defusifikasi(setInferensi):\n",
        "  x, y = 0, 0\n",
        "  setDefusifikasi = {'Direkomendasikan':100, 'Kurang Direkomendasikan': 70, 'Tidak Direkomendasikan': 50}\n",
        "\n",
        "  for i in setDefusifikasi.keys():\n",
        "    x += setInferensi[i] * setDefusifikasi[i] \n",
        "    y += setInferensi[i]\n",
        "  return x/y"
      ],
      "metadata": {
        "id": "0q06JovB2po4"
      },
      "execution_count": 443,
      "outputs": []
    },
    {
      "cell_type": "code",
      "source": [
        "import numpy as np\n",
        "import pandas as pd\n",
        "import matplotlib.pyplot as plt\n",
        "\n",
        "plt.figure(figsize=(8, 3))\n",
        "plt.title(\"Model Sugeno\")\n",
        "plt.plot([50, 50],[0, 1], label='Tidak Direkomendasikan', color='r')\n",
        "plt.plot([70, 70],[0, 1], label='Kurang Direkomendasikan', color='b')\n",
        "plt.plot([100, 100],[0, 1], label='Direkomendasikan', color='g')\n",
        "plt.xticks(np.arange(0, 101, 10.0))\n",
        "plt.legend()\n",
        "plt.show()"
      ],
      "metadata": {
        "colab": {
          "base_uri": "https://localhost:8080/",
          "height": 227
        },
        "id": "4GcVw7j52vOI",
        "outputId": "5efe7efc-9b65-4513-c5a5-35283a8bcecd"
      },
      "execution_count": 444,
      "outputs": [
        {
          "output_type": "display_data",
          "data": {
            "text/plain": [
              "<Figure size 576x216 with 1 Axes>"
            ],
            "image/png": "[encoded data removed]"
          },
          "metadata": {
            "needs_background": "light"
          }
        }
      ]
    },
    {
      "cell_type": "code",
      "source": [
        "#main Program\n",
        "\n",
        "hasilDefusifikasi = []\n",
        "\n",
        "def mainProgram(data):\n",
        "  for i in range(len(data)):\n",
        "    servis = fuzzifikasiServis(data['servis'][i])\n",
        "    harga = fuzzifikasiHarga(data['harga'][i])\n",
        "    print(servis, harga)\n",
        "    setInferensi = inferensi(servis, harga)\n",
        "    #print(setInferensi)\n",
        "    hasil = defusifikasi(setInferensi)\n",
        "    hasilDefusifikasi.append(hasil)\n",
        "  return hasilDefusifikasi\n",
        "  \n",
        "\n",
        "dataBengkel = mainProgram(data)\n",
        "data['hasil'] = dataBengkel\n",
        "\n",
        "#df = pd.DataFrame()\n",
        "#data = dataBengkel\n",
        "#data = pd.DataFrame\n",
        "#data = pd.ExcelWriter('peringkat.xlsx')\n",
        "#data = pd.ExcelWriter('peringkat.xlsx', engine='xlsxwriter')\n",
        "#df.to_excel(data, sheet_name='Sheet1')\n",
        "#data.save()\n",
        "#data"
      ],
      "metadata": {
        "colab": {
          "base_uri": "https://localhost:8080/"
        },
        "id": "5rZhQugi3PzX",
        "outputId": "20e5930e-21c3-45a1-d352-b97b81de7a19"
      },
      "execution_count": 445,
      "outputs": [
        {
          "output_type": "stream",
          "name": "stdout",
          "text": [
            "{'Buruk': 0, 'Cukup': 1, 'Baik': 0} {'Mahal': 0.5, 'Cukup': 0, 'Murah': 0}\n",
            "{'Buruk': 0, 'Cukup': 1, 'Baik': 0} {'Mahal': 0, 'Cukup': 0, 'Murah': 1}\n",
            "{'Buruk': 0, 'Cukup': 0, 'Baik': 1} {'Mahal': 0, 'Cukup': 0, 'Murah': 1}\n",
            "{'Buruk': 0, 'Cukup': 1, 'Baik': 0} {'Mahal': 0, 'Cukup': 1.0, 'Murah': 0}\n",
            "{'Buruk': 1, 'Cukup': 0, 'Baik': 0} {'Mahal': 0, 'Cukup': 1.0, 'Murah': 0}\n",
            "{'Buruk': 0, 'Cukup': 1, 'Baik': 0} {'Mahal': 1, 'Cukup': 0, 'Murah': 0}\n",
            "{'Buruk': 0, 'Cukup': 0.9, 'Baik': 0} {'Mahal': 1.0, 'Cukup': 0, 'Murah': 0}\n",
            "{'Buruk': 1, 'Cukup': 0.3333333333333333, 'Baik': 0} {'Mahal': 1, 'Cukup': 0, 'Murah': 0}\n",
            "{'Buruk': 0, 'Cukup': 0.8333333333333334, 'Baik': 0} {'Mahal': 0, 'Cukup': 0, 'Murah': 1}\n",
            "{'Buruk': 0.9, 'Cukup': 0.5333333333333333, 'Baik': 0} {'Mahal': 1, 'Cukup': 0, 'Murah': 0}\n",
            "{'Buruk': 1, 'Cukup': 0, 'Baik': 0} {'Mahal': 0, 'Cukup': 1, 'Murah': 0}\n",
            "{'Buruk': 0.7, 'Cukup': 0.6, 'Baik': 0} {'Mahal': 0.5, 'Cukup': 0, 'Murah': 0}\n",
            "{'Buruk': 0, 'Cukup': 0, 'Baik': 0.75} {'Mahal': 0, 'Cukup': 0, 'Murah': 1}\n",
            "{'Buruk': 1, 'Cukup': 0.36666666666666664, 'Baik': 0} {'Mahal': 1.0, 'Cukup': 0, 'Murah': 0}\n",
            "{'Buruk': 0, 'Cukup': 0, 'Baik': 0.65} {'Mahal': 0, 'Cukup': 1, 'Murah': 0}\n",
            "{'Buruk': 0, 'Cukup': 0, 'Baik': 0.85} {'Mahal': 0, 'Cukup': 1, 'Murah': 0}\n",
            "{'Buruk': 0, 'Cukup': 0, 'Baik': 0.25} {'Mahal': 0, 'Cukup': 0, 'Murah': 1}\n",
            "{'Buruk': 1, 'Cukup': 0, 'Baik': 0} {'Mahal': 1, 'Cukup': 0, 'Murah': 0}\n",
            "{'Buruk': 0.3, 'Cukup': 0.7333333333333333, 'Baik': 0} {'Mahal': 0, 'Cukup': 0, 'Murah': 1}\n",
            "{'Buruk': 0, 'Cukup': 0.9666666666666667, 'Baik': 0} {'Mahal': 1, 'Cukup': 0, 'Murah': 0}\n",
            "{'Buruk': 0, 'Cukup': 0.9333333333333333, 'Baik': 0} {'Mahal': 0, 'Cukup': 0, 'Murah': 1}\n",
            "{'Buruk': 0, 'Cukup': 0, 'Baik': 0.7} {'Mahal': 1, 'Cukup': 0, 'Murah': 0}\n",
            "{'Buruk': 1, 'Cukup': 0, 'Baik': 0} {'Mahal': 0, 'Cukup': 1.0, 'Murah': 0}\n",
            "{'Buruk': 0, 'Cukup': 0, 'Baik': 1} {'Mahal': 1, 'Cukup': 0, 'Murah': 0}\n",
            "{'Buruk': 0, 'Cukup': 0.9, 'Baik': 0} {'Mahal': 1, 'Cukup': 0, 'Murah': 0}\n",
            "{'Buruk': 1, 'Cukup': 0, 'Baik': 0} {'Mahal': 0, 'Cukup': 0, 'Murah': 1}\n",
            "{'Buruk': 0, 'Cukup': 1, 'Baik': 0} {'Mahal': 1.0, 'Cukup': 0, 'Murah': 0}\n",
            "{'Buruk': 0.1, 'Cukup': 0.8, 'Baik': 0} {'Mahal': 0, 'Cukup': 0, 'Murah': 1}\n",
            "{'Buruk': 1, 'Cukup': 0, 'Baik': 0} {'Mahal': 1.0, 'Cukup': 0, 'Murah': 0}\n",
            "{'Buruk': 1, 'Cukup': 0, 'Baik': 0} {'Mahal': 0, 'Cukup': 1, 'Murah': 0}\n",
            "{'Buruk': 0, 'Cukup': 0, 'Baik': 0.45} {'Mahal': 1, 'Cukup': 0, 'Murah': 0}\n",
            "{'Buruk': 0.3, 'Cukup': 0.7333333333333333, 'Baik': 0} {'Mahal': 0, 'Cukup': 0, 'Murah': 1}\n",
            "{'Buruk': 1, 'Cukup': 0.43333333333333335, 'Baik': 0} {'Mahal': 1.0, 'Cukup': 0, 'Murah': 0}\n",
            "{'Buruk': 0, 'Cukup': 0, 'Baik': 1} {'Mahal': 0, 'Cukup': 1.0, 'Murah': 0}\n",
            "{'Buruk': 1, 'Cukup': 0, 'Baik': 0} {'Mahal': 0, 'Cukup': 0, 'Murah': 1}\n",
            "{'Buruk': 1, 'Cukup': 0.4, 'Baik': 0} {'Mahal': 0, 'Cukup': 1, 'Murah': 0}\n",
            "{'Buruk': 1, 'Cukup': 0.36666666666666664, 'Baik': 0} {'Mahal': 0, 'Cukup': 1.0, 'Murah': 0}\n",
            "{'Buruk': 1, 'Cukup': 0, 'Baik': 0} {'Mahal': 0, 'Cukup': 0, 'Murah': 1}\n",
            "{'Buruk': 0, 'Cukup': 1, 'Baik': 0} {'Mahal': 0.5, 'Cukup': 0, 'Murah': 0}\n",
            "{'Buruk': 1, 'Cukup': 0, 'Baik': 0} {'Mahal': 0, 'Cukup': 1, 'Murah': 0}\n",
            "{'Buruk': 1, 'Cukup': 0.43333333333333335, 'Baik': 0} {'Mahal': 0, 'Cukup': 0, 'Murah': 1}\n",
            "{'Buruk': 0, 'Cukup': 0, 'Baik': 1} {'Mahal': 1, 'Cukup': 0, 'Murah': 0}\n",
            "{'Buruk': 1, 'Cukup': 0.4666666666666667, 'Baik': 0} {'Mahal': 0, 'Cukup': 0, 'Murah': 1}\n",
            "{'Buruk': 0, 'Cukup': 0.7, 'Baik': 0} {'Mahal': 0, 'Cukup': 0, 'Murah': 1}\n",
            "{'Buruk': 1, 'Cukup': 0, 'Baik': 0} {'Mahal': 1.0, 'Cukup': 0, 'Murah': 0}\n",
            "{'Buruk': 0.7, 'Cukup': 0.6, 'Baik': 0} {'Mahal': 0, 'Cukup': 0, 'Murah': 1}\n",
            "{'Buruk': 1, 'Cukup': 0.03333333333333333, 'Baik': 0} {'Mahal': 0, 'Cukup': 0, 'Murah': 1}\n",
            "{'Buruk': 0, 'Cukup': 0.6, 'Baik': 0} {'Mahal': 0, 'Cukup': 1.0, 'Murah': 0}\n",
            "{'Buruk': 1, 'Cukup': 0, 'Baik': 0} {'Mahal': 0, 'Cukup': 0, 'Murah': 1}\n",
            "{'Buruk': 0.3, 'Cukup': 0.7333333333333333, 'Baik': 0} {'Mahal': 0, 'Cukup': 1, 'Murah': 0}\n",
            "{'Buruk': 0, 'Cukup': 0.9333333333333333, 'Baik': 0} {'Mahal': 1, 'Cukup': 0, 'Murah': 0}\n",
            "{'Buruk': 0, 'Cukup': 0, 'Baik': 1} {'Mahal': 0, 'Cukup': 0, 'Murah': 1}\n",
            "{'Buruk': 1, 'Cukup': 0.03333333333333333, 'Baik': 0} {'Mahal': 0, 'Cukup': 1, 'Murah': 0}\n",
            "{'Buruk': 0, 'Cukup': 0.6, 'Baik': 0} {'Mahal': 1, 'Cukup': 0, 'Murah': 0}\n",
            "{'Buruk': 0, 'Cukup': 1.0, 'Baik': 0} {'Mahal': 0.5, 'Cukup': 0, 'Murah': 0}\n",
            "{'Buruk': 0, 'Cukup': 0.9666666666666667, 'Baik': 0} {'Mahal': 0, 'Cukup': 0, 'Murah': 1}\n",
            "{'Buruk': 1, 'Cukup': 0.13333333333333333, 'Baik': 0} {'Mahal': 0, 'Cukup': 0, 'Murah': 1}\n",
            "{'Buruk': 1, 'Cukup': 0.36666666666666664, 'Baik': 0} {'Mahal': 0, 'Cukup': 0, 'Murah': 1}\n",
            "{'Buruk': 1, 'Cukup': 0.26666666666666666, 'Baik': 0} {'Mahal': 0, 'Cukup': 1.0, 'Murah': 0}\n",
            "{'Buruk': 0, 'Cukup': 0, 'Baik': 0.7} {'Mahal': 0, 'Cukup': 1, 'Murah': 0}\n",
            "{'Buruk': 0.3, 'Cukup': 0.7333333333333333, 'Baik': 0} {'Mahal': 0, 'Cukup': 1.0, 'Murah': 0}\n",
            "{'Buruk': 1, 'Cukup': 0.36666666666666664, 'Baik': 0} {'Mahal': 0.5, 'Cukup': 0, 'Murah': 0}\n",
            "{'Buruk': 0, 'Cukup': 0, 'Baik': 0.65} {'Mahal': 0.5, 'Cukup': 0, 'Murah': 0}\n",
            "{'Buruk': 1.0, 'Cukup': 0.5, 'Baik': 0} {'Mahal': 0, 'Cukup': 0, 'Murah': 1}\n",
            "{'Buruk': 1, 'Cukup': 0, 'Baik': 0} {'Mahal': 1.0, 'Cukup': 0, 'Murah': 0}\n",
            "{'Buruk': 1, 'Cukup': 0, 'Baik': 0} {'Mahal': 1, 'Cukup': 0, 'Murah': 0}\n",
            "{'Buruk': 1, 'Cukup': 0.23333333333333334, 'Baik': 0} {'Mahal': 0, 'Cukup': 1.0, 'Murah': 0}\n",
            "{'Buruk': 0, 'Cukup': 1, 'Baik': 0} {'Mahal': 0, 'Cukup': 1, 'Murah': 0}\n",
            "{'Buruk': 0, 'Cukup': 0, 'Baik': 1} {'Mahal': 1, 'Cukup': 0, 'Murah': 0}\n",
            "{'Buruk': 0, 'Cukup': 0, 'Baik': 0.65} {'Mahal': 1.0, 'Cukup': 0, 'Murah': 0}\n",
            "{'Buruk': 0.6, 'Cukup': 0.6333333333333333, 'Baik': 0} {'Mahal': 0, 'Cukup': 0, 'Murah': 1}\n",
            "{'Buruk': 1, 'Cukup': 0.2, 'Baik': 0} {'Mahal': 0, 'Cukup': 1, 'Murah': 0}\n",
            "{'Buruk': 1, 'Cukup': 0.06666666666666667, 'Baik': 0} {'Mahal': 1, 'Cukup': 0, 'Murah': 0}\n",
            "{'Buruk': 0, 'Cukup': 1, 'Baik': 0} {'Mahal': 0, 'Cukup': 1.0, 'Murah': 0}\n",
            "{'Buruk': 0, 'Cukup': 0.9, 'Baik': 0} {'Mahal': 0, 'Cukup': 0, 'Murah': 1}\n",
            "{'Buruk': 0, 'Cukup': 0.8333333333333334, 'Baik': 0} {'Mahal': 0, 'Cukup': 1, 'Murah': 0}\n",
            "{'Buruk': 1, 'Cukup': 0, 'Baik': 0} {'Mahal': 1, 'Cukup': 0, 'Murah': 0}\n",
            "{'Buruk': 1, 'Cukup': 0, 'Baik': 0} {'Mahal': 0, 'Cukup': 0, 'Murah': 1}\n",
            "{'Buruk': 0, 'Cukup': 0, 'Baik': 1} {'Mahal': 1, 'Cukup': 0, 'Murah': 0}\n",
            "{'Buruk': 0.6, 'Cukup': 0.6333333333333333, 'Baik': 0} {'Mahal': 1, 'Cukup': 0, 'Murah': 0}\n",
            "{'Buruk': 1, 'Cukup': 0, 'Baik': 0} {'Mahal': 1, 'Cukup': 0, 'Murah': 0}\n",
            "{'Buruk': 1, 'Cukup': 0, 'Baik': 0} {'Mahal': 0, 'Cukup': 1.0, 'Murah': 0}\n",
            "{'Buruk': 0, 'Cukup': 0.1, 'Baik': 0.2} {'Mahal': 1.0, 'Cukup': 0, 'Murah': 0}\n",
            "{'Buruk': 1, 'Cukup': 0, 'Baik': 0} {'Mahal': 0, 'Cukup': 0, 'Murah': 1}\n",
            "{'Buruk': 1, 'Cukup': 0, 'Baik': 0} {'Mahal': 0, 'Cukup': 1.0, 'Murah': 0}\n",
            "{'Buruk': 1, 'Cukup': 0.3333333333333333, 'Baik': 0} {'Mahal': 0, 'Cukup': 1, 'Murah': 0}\n",
            "{'Buruk': 0, 'Cukup': 1, 'Baik': 0} {'Mahal': 0, 'Cukup': 1.0, 'Murah': 0}\n",
            "{'Buruk': 1, 'Cukup': 0, 'Baik': 0} {'Mahal': 1, 'Cukup': 0, 'Murah': 0}\n",
            "{'Buruk': 0, 'Cukup': 0.9333333333333333, 'Baik': 0} {'Mahal': 0, 'Cukup': 0, 'Murah': 1}\n",
            "{'Buruk': 1, 'Cukup': 0, 'Baik': 0} {'Mahal': 0, 'Cukup': 0, 'Murah': 1}\n",
            "{'Buruk': 0, 'Cukup': 0, 'Baik': 1} {'Mahal': 0, 'Cukup': 0, 'Murah': 1}\n",
            "{'Buruk': 0, 'Cukup': 0, 'Baik': 0.9} {'Mahal': 0, 'Cukup': 0, 'Murah': 1}\n",
            "{'Buruk': 0.5, 'Cukup': 0.6666666666666666, 'Baik': 0} {'Mahal': 1.0, 'Cukup': 0, 'Murah': 0}\n",
            "{'Buruk': 1, 'Cukup': 0, 'Baik': 0} {'Mahal': 0, 'Cukup': 0, 'Murah': 1}\n",
            "{'Buruk': 0, 'Cukup': 0.7, 'Baik': 0} {'Mahal': 1.0, 'Cukup': 0, 'Murah': 0}\n",
            "{'Buruk': 1, 'Cukup': 0.3333333333333333, 'Baik': 0} {'Mahal': 0, 'Cukup': 0, 'Murah': 1}\n",
            "{'Buruk': 1, 'Cukup': 0.16666666666666666, 'Baik': 0} {'Mahal': 0, 'Cukup': 0, 'Murah': 1}\n",
            "{'Buruk': 1, 'Cukup': 0.23333333333333334, 'Baik': 0} {'Mahal': 1, 'Cukup': 0, 'Murah': 0}\n",
            "{'Buruk': 1, 'Cukup': 0, 'Baik': 0} {'Mahal': 0, 'Cukup': 1, 'Murah': 0}\n",
            "{'Buruk': 1, 'Cukup': 0, 'Baik': 0} {'Mahal': 1.0, 'Cukup': 0, 'Murah': 0}\n"
          ]
        }
      ]
    },
    {
      "cell_type": "code",
      "source": [
        "#df = pd.DataFrame()\n",
        "data = data.sort_values(by = 'hasil', ascending = False)[:10]\n",
        "#data = pd.ExcelWriter('peringkat.xlsx', engine='xlsxwriter')\n",
        "#df.to_excel(data, sheet_name='Sheet1')\n",
        "data.to_excel('peringkat.xls')\n",
        "#data.save()\n",
        "print(data)"
      ],
      "metadata": {
        "colab": {
          "base_uri": "https://localhost:8080/"
        },
        "id": "WR8fQV527j2r",
        "outputId": "72e4532d-bb00-4885-b5cb-ee43b1de663a"
      },
      "execution_count": 446,
      "outputs": [
        {
          "output_type": "stream",
          "name": "stdout",
          "text": [
            "    id  servis  harga  hasil\n",
            "74  75      61      1  100.0\n",
            "12  13      80      3  100.0\n",
            "51  52      94      3  100.0\n",
            "43  44      63      2  100.0\n",
            "55  56      49      3  100.0\n",
            "59  60      79      6  100.0\n",
            "33  34      93      4  100.0\n",
            "20  21      48      2  100.0\n",
            "16  17      70      3  100.0\n",
            "15  16      82      6  100.0\n"
          ]
        },
        {
          "output_type": "stream",
          "name": "stderr",
          "text": [
            "/usr/local/lib/python3.7/dist-packages/ipykernel_launcher.py:5: FutureWarning: As the xlwt package is no longer maintained, the xlwt engine will be removed in a future version of pandas. This is the only engine in pandas that supports writing in the xls format. Install openpyxl and write to an xlsx file instead. You can set the option io.excel.xls.writer to 'xlwt' to silence this warning. While this option is deprecated and will also raise a warning, it can be globally set and the warning suppressed.\n",
            "  \"\"\"\n"
          ]
        }
      ]
    },
    {
      "cell_type": "code",
      "source": [
        ""
      ],
      "metadata": {
        "id": "yzGIYNWtmmju"
      },
      "execution_count": 446,
      "outputs": []
    }
  ]
}